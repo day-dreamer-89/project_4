{
 "cells": [
  {
   "cell_type": "code",
   "execution_count": 1,
   "id": "9bb5cf46",
   "metadata": {},
   "outputs": [
    {
     "ename": "AttributeError",
     "evalue": "module 'collections' has no attribute 'Hashable'",
     "output_type": "error",
     "traceback": [
      "\u001b[0;31m---------------------------------------------------------------------------\u001b[0m",
      "\u001b[0;31mAttributeError\u001b[0m                            Traceback (most recent call last)",
      "Cell \u001b[0;32mIn[1], line 5\u001b[0m\n\u001b[1;32m      3\u001b[0m \u001b[38;5;28;01mfrom\u001b[39;00m \u001b[38;5;21;01mpathlib\u001b[39;00m \u001b[38;5;28;01mimport\u001b[39;00m Path\n\u001b[1;32m      4\u001b[0m \u001b[38;5;28;01mimport\u001b[39;00m \u001b[38;5;21;01mseaborn\u001b[39;00m \u001b[38;5;28;01mas\u001b[39;00m \u001b[38;5;21;01msns\u001b[39;00m\n\u001b[0;32m----> 5\u001b[0m \u001b[38;5;28;01mimport\u001b[39;00m \u001b[38;5;21;01mplotly\u001b[39;00m\u001b[38;5;21;01m.\u001b[39;00m\u001b[38;5;21;01mexpress\u001b[39;00m \u001b[38;5;28;01mas\u001b[39;00m \u001b[38;5;21;01mpx\u001b[39;00m\n\u001b[1;32m      6\u001b[0m \u001b[38;5;28;01mfrom\u001b[39;00m \u001b[38;5;21;01msklearn\u001b[39;00m\u001b[38;5;21;01m.\u001b[39;00m\u001b[38;5;21;01mmetrics\u001b[39;00m \u001b[38;5;28;01mimport\u001b[39;00m accuracy_score\n\u001b[1;32m      7\u001b[0m \u001b[38;5;28;01mfrom\u001b[39;00m \u001b[38;5;21;01msklearn\u001b[39;00m\u001b[38;5;21;01m.\u001b[39;00m\u001b[38;5;21;01mmodel_selection\u001b[39;00m \u001b[38;5;28;01mimport\u001b[39;00m train_test_split\n",
      "File \u001b[0;32m~/anaconda3/envs/bootcamp3/lib/python3.10/site-packages/plotly/express/__init__.py:15\u001b[0m\n\u001b[1;32m      9\u001b[0m \u001b[38;5;28;01mif\u001b[39;00m pd \u001b[38;5;129;01mis\u001b[39;00m \u001b[38;5;28;01mNone\u001b[39;00m:\n\u001b[1;32m     10\u001b[0m     \u001b[38;5;28;01mraise\u001b[39;00m \u001b[38;5;167;01mImportError\u001b[39;00m(\n\u001b[1;32m     11\u001b[0m \u001b[38;5;250m        \u001b[39m\u001b[38;5;124;03m\"\"\"\\\u001b[39;00m\n\u001b[1;32m     12\u001b[0m \u001b[38;5;124;03mPlotly express requires pandas to be installed.\"\"\"\u001b[39;00m\n\u001b[1;32m     13\u001b[0m     )\n\u001b[0;32m---> 15\u001b[0m \u001b[38;5;28;01mfrom\u001b[39;00m \u001b[38;5;21;01m.\u001b[39;00m\u001b[38;5;21;01m_imshow\u001b[39;00m \u001b[38;5;28;01mimport\u001b[39;00m imshow\n\u001b[1;32m     16\u001b[0m \u001b[38;5;28;01mfrom\u001b[39;00m \u001b[38;5;21;01m.\u001b[39;00m\u001b[38;5;21;01m_chart_types\u001b[39;00m \u001b[38;5;28;01mimport\u001b[39;00m (  \u001b[38;5;66;03m# noqa: F401\u001b[39;00m\n\u001b[1;32m     17\u001b[0m     scatter,\n\u001b[1;32m     18\u001b[0m     scatter_3d,\n\u001b[0;32m   (...)\u001b[0m\n\u001b[1;32m     51\u001b[0m     density_mapbox,\n\u001b[1;32m     52\u001b[0m )\n\u001b[1;32m     55\u001b[0m \u001b[38;5;28;01mfrom\u001b[39;00m \u001b[38;5;21;01m.\u001b[39;00m\u001b[38;5;21;01m_core\u001b[39;00m \u001b[38;5;28;01mimport\u001b[39;00m (  \u001b[38;5;66;03m# noqa: F401\u001b[39;00m\n\u001b[1;32m     56\u001b[0m     set_mapbox_access_token,\n\u001b[1;32m     57\u001b[0m     defaults,\n\u001b[1;32m     58\u001b[0m     get_trendline_results,\n\u001b[1;32m     59\u001b[0m     NO_COLOR,\n\u001b[1;32m     60\u001b[0m )\n",
      "File \u001b[0;32m~/anaconda3/envs/bootcamp3/lib/python3.10/site-packages/plotly/express/_imshow.py:11\u001b[0m\n\u001b[1;32m      8\u001b[0m \u001b[38;5;28;01mfrom\u001b[39;00m \u001b[38;5;21;01mplotly\u001b[39;00m\u001b[38;5;21;01m.\u001b[39;00m\u001b[38;5;21;01mutils\u001b[39;00m \u001b[38;5;28;01mimport\u001b[39;00m image_array_to_data_uri\n\u001b[1;32m     10\u001b[0m \u001b[38;5;28;01mtry\u001b[39;00m:\n\u001b[0;32m---> 11\u001b[0m     \u001b[38;5;28;01mimport\u001b[39;00m \u001b[38;5;21;01mxarray\u001b[39;00m\n\u001b[1;32m     13\u001b[0m     xarray_imported \u001b[38;5;241m=\u001b[39m \u001b[38;5;28;01mTrue\u001b[39;00m\n\u001b[1;32m     14\u001b[0m \u001b[38;5;28;01mexcept\u001b[39;00m \u001b[38;5;167;01mImportError\u001b[39;00m:\n",
      "File \u001b[0;32m~/anaconda3/envs/bootcamp3/lib/python3.10/site-packages/xarray/__init__.py:1\u001b[0m\n\u001b[0;32m----> 1\u001b[0m \u001b[38;5;28;01mfrom\u001b[39;00m \u001b[38;5;21;01m.\u001b[39;00m \u001b[38;5;28;01mimport\u001b[39;00m testing, tutorial\n\u001b[1;32m      2\u001b[0m \u001b[38;5;28;01mfrom\u001b[39;00m \u001b[38;5;21;01m.\u001b[39;00m\u001b[38;5;21;01mbackends\u001b[39;00m\u001b[38;5;21;01m.\u001b[39;00m\u001b[38;5;21;01mapi\u001b[39;00m \u001b[38;5;28;01mimport\u001b[39;00m (\n\u001b[1;32m      3\u001b[0m     load_dataarray,\n\u001b[1;32m      4\u001b[0m     load_dataset,\n\u001b[0;32m   (...)\u001b[0m\n\u001b[1;32m      8\u001b[0m     save_mfdataset,\n\u001b[1;32m      9\u001b[0m )\n\u001b[1;32m     10\u001b[0m \u001b[38;5;28;01mfrom\u001b[39;00m \u001b[38;5;21;01m.\u001b[39;00m\u001b[38;5;21;01mbackends\u001b[39;00m\u001b[38;5;21;01m.\u001b[39;00m\u001b[38;5;21;01mrasterio_\u001b[39;00m \u001b[38;5;28;01mimport\u001b[39;00m open_rasterio\n",
      "File \u001b[0;32m~/anaconda3/envs/bootcamp3/lib/python3.10/site-packages/xarray/tutorial.py:17\u001b[0m\n\u001b[1;32m     13\u001b[0m \u001b[38;5;28;01mfrom\u001b[39;00m \u001b[38;5;21;01mtyping\u001b[39;00m \u001b[38;5;28;01mimport\u001b[39;00m TYPE_CHECKING\n\u001b[1;32m     15\u001b[0m \u001b[38;5;28;01mimport\u001b[39;00m \u001b[38;5;21;01mnumpy\u001b[39;00m \u001b[38;5;28;01mas\u001b[39;00m \u001b[38;5;21;01mnp\u001b[39;00m\n\u001b[0;32m---> 17\u001b[0m \u001b[38;5;28;01mfrom\u001b[39;00m \u001b[38;5;21;01m.\u001b[39;00m\u001b[38;5;21;01mbackends\u001b[39;00m\u001b[38;5;21;01m.\u001b[39;00m\u001b[38;5;21;01mapi\u001b[39;00m \u001b[38;5;28;01mimport\u001b[39;00m open_dataset \u001b[38;5;28;01mas\u001b[39;00m _open_dataset\n\u001b[1;32m     18\u001b[0m \u001b[38;5;28;01mfrom\u001b[39;00m \u001b[38;5;21;01m.\u001b[39;00m\u001b[38;5;21;01mbackends\u001b[39;00m\u001b[38;5;21;01m.\u001b[39;00m\u001b[38;5;21;01mrasterio_\u001b[39;00m \u001b[38;5;28;01mimport\u001b[39;00m open_rasterio \u001b[38;5;28;01mas\u001b[39;00m _open_rasterio\n\u001b[1;32m     19\u001b[0m \u001b[38;5;28;01mfrom\u001b[39;00m \u001b[38;5;21;01m.\u001b[39;00m\u001b[38;5;21;01mcore\u001b[39;00m\u001b[38;5;21;01m.\u001b[39;00m\u001b[38;5;21;01mdataarray\u001b[39;00m \u001b[38;5;28;01mimport\u001b[39;00m DataArray\n",
      "File \u001b[0;32m~/anaconda3/envs/bootcamp3/lib/python3.10/site-packages/xarray/backends/__init__.py:6\u001b[0m\n\u001b[1;32m      1\u001b[0m \u001b[38;5;124;03m\"\"\"Backend objects for saving and loading data\u001b[39;00m\n\u001b[1;32m      2\u001b[0m \n\u001b[1;32m      3\u001b[0m \u001b[38;5;124;03mDataStores provide a uniform interface for saving and loading data in different\u001b[39;00m\n\u001b[1;32m      4\u001b[0m \u001b[38;5;124;03mformats. They should not be used directly, but rather through Dataset objects.\u001b[39;00m\n\u001b[1;32m      5\u001b[0m \u001b[38;5;124;03m\"\"\"\u001b[39;00m\n\u001b[0;32m----> 6\u001b[0m \u001b[38;5;28;01mfrom\u001b[39;00m \u001b[38;5;21;01m.\u001b[39;00m\u001b[38;5;21;01mcfgrib_\u001b[39;00m \u001b[38;5;28;01mimport\u001b[39;00m CfGribDataStore\n\u001b[1;32m      7\u001b[0m \u001b[38;5;28;01mfrom\u001b[39;00m \u001b[38;5;21;01m.\u001b[39;00m\u001b[38;5;21;01mcommon\u001b[39;00m \u001b[38;5;28;01mimport\u001b[39;00m AbstractDataStore, BackendArray, BackendEntrypoint\n\u001b[1;32m      8\u001b[0m \u001b[38;5;28;01mfrom\u001b[39;00m \u001b[38;5;21;01m.\u001b[39;00m\u001b[38;5;21;01mfile_manager\u001b[39;00m \u001b[38;5;28;01mimport\u001b[39;00m CachingFileManager, DummyFileManager, FileManager\n",
      "File \u001b[0;32m~/anaconda3/envs/bootcamp3/lib/python3.10/site-packages/xarray/backends/cfgrib_.py:18\u001b[0m\n\u001b[1;32m     10\u001b[0m \u001b[38;5;28;01mfrom\u001b[39;00m \u001b[38;5;21;01m.\u001b[39;00m\u001b[38;5;21;01m.\u001b[39;00m\u001b[38;5;21;01mcore\u001b[39;00m\u001b[38;5;21;01m.\u001b[39;00m\u001b[38;5;21;01mvariable\u001b[39;00m \u001b[38;5;28;01mimport\u001b[39;00m Variable\n\u001b[1;32m     11\u001b[0m \u001b[38;5;28;01mfrom\u001b[39;00m \u001b[38;5;21;01m.\u001b[39;00m\u001b[38;5;21;01mcommon\u001b[39;00m \u001b[38;5;28;01mimport\u001b[39;00m (\n\u001b[1;32m     12\u001b[0m     BACKEND_ENTRYPOINTS,\n\u001b[1;32m     13\u001b[0m     AbstractDataStore,\n\u001b[0;32m   (...)\u001b[0m\n\u001b[1;32m     16\u001b[0m     _normalize_path,\n\u001b[1;32m     17\u001b[0m )\n\u001b[0;32m---> 18\u001b[0m \u001b[38;5;28;01mfrom\u001b[39;00m \u001b[38;5;21;01m.\u001b[39;00m\u001b[38;5;21;01mlocks\u001b[39;00m \u001b[38;5;28;01mimport\u001b[39;00m SerializableLock, ensure_lock\n\u001b[1;32m     19\u001b[0m \u001b[38;5;28;01mfrom\u001b[39;00m \u001b[38;5;21;01m.\u001b[39;00m\u001b[38;5;21;01mstore\u001b[39;00m \u001b[38;5;28;01mimport\u001b[39;00m StoreBackendEntrypoint\n\u001b[1;32m     21\u001b[0m \u001b[38;5;66;03m# FIXME: Add a dedicated lock, even if ecCodes is supposed to be thread-safe\u001b[39;00m\n\u001b[1;32m     22\u001b[0m \u001b[38;5;66;03m#   in most circumstances. See:\u001b[39;00m\n\u001b[1;32m     23\u001b[0m \u001b[38;5;66;03m#       https://confluence.ecmwf.int/display/ECC/Frequently+Asked+Questions\u001b[39;00m\n",
      "File \u001b[0;32m~/anaconda3/envs/bootcamp3/lib/python3.10/site-packages/xarray/backends/locks.py:9\u001b[0m\n\u001b[1;32m      6\u001b[0m \u001b[38;5;28;01mfrom\u001b[39;00m \u001b[38;5;21;01mtyping\u001b[39;00m \u001b[38;5;28;01mimport\u001b[39;00m Any, MutableMapping\n\u001b[1;32m      8\u001b[0m \u001b[38;5;28;01mtry\u001b[39;00m:\n\u001b[0;32m----> 9\u001b[0m     \u001b[38;5;28;01mfrom\u001b[39;00m \u001b[38;5;21;01mdask\u001b[39;00m\u001b[38;5;21;01m.\u001b[39;00m\u001b[38;5;21;01mutils\u001b[39;00m \u001b[38;5;28;01mimport\u001b[39;00m SerializableLock\n\u001b[1;32m     10\u001b[0m \u001b[38;5;28;01mexcept\u001b[39;00m \u001b[38;5;167;01mImportError\u001b[39;00m:\n\u001b[1;32m     11\u001b[0m     \u001b[38;5;66;03m# no need to worry about serializing the lock\u001b[39;00m\n\u001b[1;32m     12\u001b[0m     SerializableLock \u001b[38;5;241m=\u001b[39m threading\u001b[38;5;241m.\u001b[39mLock  \u001b[38;5;66;03m# type: ignore\u001b[39;00m\n",
      "File \u001b[0;32m~/anaconda3/envs/bootcamp3/lib/python3.10/site-packages/dask/__init__.py:3\u001b[0m\n\u001b[1;32m      1\u001b[0m \u001b[38;5;28;01mfrom\u001b[39;00m \u001b[38;5;21;01m__future__\u001b[39;00m \u001b[38;5;28;01mimport\u001b[39;00m annotations\n\u001b[0;32m----> 3\u001b[0m \u001b[38;5;28;01mfrom\u001b[39;00m \u001b[38;5;21;01mdask\u001b[39;00m \u001b[38;5;28;01mimport\u001b[39;00m config, datasets\n\u001b[1;32m      4\u001b[0m \u001b[38;5;28;01mfrom\u001b[39;00m \u001b[38;5;21;01mdask\u001b[39;00m\u001b[38;5;21;01m.\u001b[39;00m\u001b[38;5;21;01m_version\u001b[39;00m \u001b[38;5;28;01mimport\u001b[39;00m get_versions\n\u001b[1;32m      5\u001b[0m \u001b[38;5;28;01mfrom\u001b[39;00m \u001b[38;5;21;01mdask\u001b[39;00m\u001b[38;5;21;01m.\u001b[39;00m\u001b[38;5;21;01mbase\u001b[39;00m \u001b[38;5;28;01mimport\u001b[39;00m (\n\u001b[1;32m      6\u001b[0m     annotate,\n\u001b[1;32m      7\u001b[0m     compute,\n\u001b[0;32m   (...)\u001b[0m\n\u001b[1;32m     11\u001b[0m     visualize,\n\u001b[1;32m     12\u001b[0m )\n",
      "File \u001b[0;32m~/anaconda3/envs/bootcamp3/lib/python3.10/site-packages/dask/config.py:752\u001b[0m\n\u001b[1;32m    748\u001b[0m     update_defaults(_defaults)\n\u001b[1;32m    751\u001b[0m refresh()\n\u001b[0;32m--> 752\u001b[0m \u001b[43m_initialize\u001b[49m\u001b[43m(\u001b[49m\u001b[43m)\u001b[49m\n",
      "File \u001b[0;32m~/anaconda3/envs/bootcamp3/lib/python3.10/site-packages/dask/config.py:746\u001b[0m, in \u001b[0;36m_initialize\u001b[0;34m()\u001b[0m\n\u001b[1;32m    743\u001b[0m fn \u001b[38;5;241m=\u001b[39m os\u001b[38;5;241m.\u001b[39mpath\u001b[38;5;241m.\u001b[39mjoin(os\u001b[38;5;241m.\u001b[39mpath\u001b[38;5;241m.\u001b[39mdirname(\u001b[38;5;18m__file__\u001b[39m), \u001b[38;5;124m\"\u001b[39m\u001b[38;5;124mdask.yaml\u001b[39m\u001b[38;5;124m\"\u001b[39m)\n\u001b[1;32m    745\u001b[0m \u001b[38;5;28;01mwith\u001b[39;00m \u001b[38;5;28mopen\u001b[39m(fn) \u001b[38;5;28;01mas\u001b[39;00m f:\n\u001b[0;32m--> 746\u001b[0m     _defaults \u001b[38;5;241m=\u001b[39m \u001b[43myaml\u001b[49m\u001b[38;5;241;43m.\u001b[39;49m\u001b[43msafe_load\u001b[49m\u001b[43m(\u001b[49m\u001b[43mf\u001b[49m\u001b[43m)\u001b[49m\n\u001b[1;32m    748\u001b[0m update_defaults(_defaults)\n",
      "File \u001b[0;32m~/anaconda3/envs/bootcamp3/lib/python3.10/site-packages/yaml/__init__.py:94\u001b[0m, in \u001b[0;36msafe_load\u001b[0;34m(stream)\u001b[0m\n\u001b[1;32m     88\u001b[0m \u001b[38;5;28;01mdef\u001b[39;00m \u001b[38;5;21msafe_load\u001b[39m(stream):\n\u001b[1;32m     89\u001b[0m \u001b[38;5;250m    \u001b[39m\u001b[38;5;124;03m\"\"\"\u001b[39;00m\n\u001b[1;32m     90\u001b[0m \u001b[38;5;124;03m    Parse the first YAML document in a stream\u001b[39;00m\n\u001b[1;32m     91\u001b[0m \u001b[38;5;124;03m    and produce the corresponding Python object.\u001b[39;00m\n\u001b[1;32m     92\u001b[0m \u001b[38;5;124;03m    Resolve only basic YAML tags.\u001b[39;00m\n\u001b[1;32m     93\u001b[0m \u001b[38;5;124;03m    \"\"\"\u001b[39;00m\n\u001b[0;32m---> 94\u001b[0m     \u001b[38;5;28;01mreturn\u001b[39;00m \u001b[43mload\u001b[49m\u001b[43m(\u001b[49m\u001b[43mstream\u001b[49m\u001b[43m,\u001b[49m\u001b[43m \u001b[49m\u001b[43mSafeLoader\u001b[49m\u001b[43m)\u001b[49m\n",
      "File \u001b[0;32m~/anaconda3/envs/bootcamp3/lib/python3.10/site-packages/yaml/__init__.py:72\u001b[0m, in \u001b[0;36mload\u001b[0;34m(stream, Loader)\u001b[0m\n\u001b[1;32m     70\u001b[0m loader \u001b[38;5;241m=\u001b[39m Loader(stream)\n\u001b[1;32m     71\u001b[0m \u001b[38;5;28;01mtry\u001b[39;00m:\n\u001b[0;32m---> 72\u001b[0m     \u001b[38;5;28;01mreturn\u001b[39;00m \u001b[43mloader\u001b[49m\u001b[38;5;241;43m.\u001b[39;49m\u001b[43mget_single_data\u001b[49m\u001b[43m(\u001b[49m\u001b[43m)\u001b[49m\n\u001b[1;32m     73\u001b[0m \u001b[38;5;28;01mfinally\u001b[39;00m:\n\u001b[1;32m     74\u001b[0m     loader\u001b[38;5;241m.\u001b[39mdispose()\n",
      "File \u001b[0;32m~/anaconda3/envs/bootcamp3/lib/python3.10/site-packages/yaml/constructor.py:37\u001b[0m, in \u001b[0;36mBaseConstructor.get_single_data\u001b[0;34m(self)\u001b[0m\n\u001b[1;32m     35\u001b[0m node \u001b[38;5;241m=\u001b[39m \u001b[38;5;28mself\u001b[39m\u001b[38;5;241m.\u001b[39mget_single_node()\n\u001b[1;32m     36\u001b[0m \u001b[38;5;28;01mif\u001b[39;00m node \u001b[38;5;129;01mis\u001b[39;00m \u001b[38;5;129;01mnot\u001b[39;00m \u001b[38;5;28;01mNone\u001b[39;00m:\n\u001b[0;32m---> 37\u001b[0m     \u001b[38;5;28;01mreturn\u001b[39;00m \u001b[38;5;28;43mself\u001b[39;49m\u001b[38;5;241;43m.\u001b[39;49m\u001b[43mconstruct_document\u001b[49m\u001b[43m(\u001b[49m\u001b[43mnode\u001b[49m\u001b[43m)\u001b[49m\n\u001b[1;32m     38\u001b[0m \u001b[38;5;28;01mreturn\u001b[39;00m \u001b[38;5;28;01mNone\u001b[39;00m\n",
      "File \u001b[0;32m~/anaconda3/envs/bootcamp3/lib/python3.10/site-packages/yaml/constructor.py:46\u001b[0m, in \u001b[0;36mBaseConstructor.construct_document\u001b[0;34m(self, node)\u001b[0m\n\u001b[1;32m     44\u001b[0m     \u001b[38;5;28mself\u001b[39m\u001b[38;5;241m.\u001b[39mstate_generators \u001b[38;5;241m=\u001b[39m []\n\u001b[1;32m     45\u001b[0m     \u001b[38;5;28;01mfor\u001b[39;00m generator \u001b[38;5;129;01min\u001b[39;00m state_generators:\n\u001b[0;32m---> 46\u001b[0m         \u001b[38;5;28;01mfor\u001b[39;00m dummy \u001b[38;5;129;01min\u001b[39;00m generator:\n\u001b[1;32m     47\u001b[0m             \u001b[38;5;28;01mpass\u001b[39;00m\n\u001b[1;32m     48\u001b[0m \u001b[38;5;28mself\u001b[39m\u001b[38;5;241m.\u001b[39mconstructed_objects \u001b[38;5;241m=\u001b[39m {}\n",
      "File \u001b[0;32m~/anaconda3/envs/bootcamp3/lib/python3.10/site-packages/yaml/constructor.py:398\u001b[0m, in \u001b[0;36mSafeConstructor.construct_yaml_map\u001b[0;34m(self, node)\u001b[0m\n\u001b[1;32m    396\u001b[0m data \u001b[38;5;241m=\u001b[39m {}\n\u001b[1;32m    397\u001b[0m \u001b[38;5;28;01myield\u001b[39;00m data\n\u001b[0;32m--> 398\u001b[0m value \u001b[38;5;241m=\u001b[39m \u001b[38;5;28;43mself\u001b[39;49m\u001b[38;5;241;43m.\u001b[39;49m\u001b[43mconstruct_mapping\u001b[49m\u001b[43m(\u001b[49m\u001b[43mnode\u001b[49m\u001b[43m)\u001b[49m\n\u001b[1;32m    399\u001b[0m data\u001b[38;5;241m.\u001b[39mupdate(value)\n",
      "File \u001b[0;32m~/anaconda3/envs/bootcamp3/lib/python3.10/site-packages/yaml/constructor.py:204\u001b[0m, in \u001b[0;36mSafeConstructor.construct_mapping\u001b[0;34m(self, node, deep)\u001b[0m\n\u001b[1;32m    202\u001b[0m \u001b[38;5;28;01mif\u001b[39;00m \u001b[38;5;28misinstance\u001b[39m(node, MappingNode):\n\u001b[1;32m    203\u001b[0m     \u001b[38;5;28mself\u001b[39m\u001b[38;5;241m.\u001b[39mflatten_mapping(node)\n\u001b[0;32m--> 204\u001b[0m \u001b[38;5;28;01mreturn\u001b[39;00m \u001b[38;5;28;43msuper\u001b[39;49m\u001b[43m(\u001b[49m\u001b[43m)\u001b[49m\u001b[38;5;241;43m.\u001b[39;49m\u001b[43mconstruct_mapping\u001b[49m\u001b[43m(\u001b[49m\u001b[43mnode\u001b[49m\u001b[43m,\u001b[49m\u001b[43m \u001b[49m\u001b[43mdeep\u001b[49m\u001b[38;5;241;43m=\u001b[39;49m\u001b[43mdeep\u001b[49m\u001b[43m)\u001b[49m\n",
      "File \u001b[0;32m~/anaconda3/envs/bootcamp3/lib/python3.10/site-packages/yaml/constructor.py:126\u001b[0m, in \u001b[0;36mBaseConstructor.construct_mapping\u001b[0;34m(self, node, deep)\u001b[0m\n\u001b[1;32m    124\u001b[0m \u001b[38;5;28;01mfor\u001b[39;00m key_node, value_node \u001b[38;5;129;01min\u001b[39;00m node\u001b[38;5;241m.\u001b[39mvalue:\n\u001b[1;32m    125\u001b[0m     key \u001b[38;5;241m=\u001b[39m \u001b[38;5;28mself\u001b[39m\u001b[38;5;241m.\u001b[39mconstruct_object(key_node, deep\u001b[38;5;241m=\u001b[39mdeep)\n\u001b[0;32m--> 126\u001b[0m     \u001b[38;5;28;01mif\u001b[39;00m \u001b[38;5;129;01mnot\u001b[39;00m \u001b[38;5;28misinstance\u001b[39m(key, \u001b[43mcollections\u001b[49m\u001b[38;5;241;43m.\u001b[39;49m\u001b[43mHashable\u001b[49m):\n\u001b[1;32m    127\u001b[0m         \u001b[38;5;28;01mraise\u001b[39;00m ConstructorError(\u001b[38;5;124m\"\u001b[39m\u001b[38;5;124mwhile constructing a mapping\u001b[39m\u001b[38;5;124m\"\u001b[39m, node\u001b[38;5;241m.\u001b[39mstart_mark,\n\u001b[1;32m    128\u001b[0m                 \u001b[38;5;124m\"\u001b[39m\u001b[38;5;124mfound unhashable key\u001b[39m\u001b[38;5;124m\"\u001b[39m, key_node\u001b[38;5;241m.\u001b[39mstart_mark)\n\u001b[1;32m    129\u001b[0m     value \u001b[38;5;241m=\u001b[39m \u001b[38;5;28mself\u001b[39m\u001b[38;5;241m.\u001b[39mconstruct_object(value_node, deep\u001b[38;5;241m=\u001b[39mdeep)\n",
      "\u001b[0;31mAttributeError\u001b[0m: module 'collections' has no attribute 'Hashable'"
     ]
    }
   ],
   "source": [
    "import numpy as np \n",
    "import pandas as pd \n",
    "from pathlib import Path\n",
    "import seaborn as sns\n",
    "import plotly.express as px\n",
    "from sklearn.metrics import accuracy_score\n",
    "from sklearn.model_selection import train_test_split\n",
    "from sklearn.preprocessing import LabelEncoder\n",
    "import tensorflow as tf\n",
    "from sklearn import preprocessing "
   ]
  },
  {
   "cell_type": "code",
   "execution_count": null,
   "id": "807d6693",
   "metadata": {},
   "outputs": [],
   "source": [
    "liver_df=pd.read_csv(\"Resources/Liver.csv\",encoding= 'unicode_escape')\n",
    "\n",
    "liver_df.tail(20)"
   ]
  },
  {
   "cell_type": "code",
   "execution_count": null,
   "id": "14441d32",
   "metadata": {},
   "outputs": [],
   "source": [
    "liver_df.info()"
   ]
  },
  {
   "cell_type": "code",
   "execution_count": null,
   "id": "426ec86d",
   "metadata": {},
   "outputs": [],
   "source": [
    "liver_df.isnull().sum()"
   ]
  },
  {
   "cell_type": "code",
   "execution_count": null,
   "id": "5a775fe9-da60-46a4-809e-8e6b6eb6dcec",
   "metadata": {},
   "outputs": [],
   "source": [
    "# enc=LabelEncoder()\n",
    "liver_df['Age of the patient'] = liver_df['Age of the patient'].fillna(0).astype(int)\n",
    "print(liver_df['Age of the patient'].dtype)\n"
   ]
  },
  {
   "cell_type": "code",
   "execution_count": null,
   "id": "8f8bd04e",
   "metadata": {},
   "outputs": [],
   "source": [
    "liver_df.describe()"
   ]
  },
  {
   "cell_type": "code",
   "execution_count": null,
   "id": "ce33c912",
   "metadata": {},
   "outputs": [],
   "source": [
    "liver_df=liver_df.dropna()\n",
    "liver_df.isnull().sum()"
   ]
  },
  {
   "cell_type": "code",
   "execution_count": null,
   "id": "f9f0f10b",
   "metadata": {},
   "outputs": [],
   "source": [
    "liver_df=liver_df.drop_duplicates()\n",
    "liver_df.info()"
   ]
  },
  {
   "cell_type": "code",
   "execution_count": null,
   "id": "2a564e03",
   "metadata": {},
   "outputs": [],
   "source": [
    "liver_df['Result'].value_counts()"
   ]
  },
  {
   "cell_type": "code",
   "execution_count": null,
   "id": "639a6e11",
   "metadata": {},
   "outputs": [],
   "source": [
    "liver_df['Result']= liver_df['Result'].astype(\"category\")"
   ]
  },
  {
   "cell_type": "code",
   "execution_count": null,
   "id": "3087c22d",
   "metadata": {},
   "outputs": [],
   "source": [
    "#One-hot encode categorical variables\n",
    "category_col = ['Gender of the patient','Result']\n",
    "labelEncoder = preprocessing.LabelEncoder()\n",
    " \n",
    "mapping_dict = {}\n",
    "for col in category_col:\n",
    "    liver_df[col] = labelEncoder.fit_transform(liver_df[col])\n",
    " \n",
    "    name_mapping = dict(zip(labelEncoder.classes_,\n",
    "                               labelEncoder.transform(labelEncoder.classes_)))\n",
    " \n",
    "    mapping_dict[col] = name_mapping\n",
    "print(mapping_dict)"
   ]
  },
  {
   "cell_type": "code",
   "execution_count": null,
   "id": "0626a59a",
   "metadata": {},
   "outputs": [],
   "source": [
    "liver_df['Result'].value_counts()"
   ]
  },
  {
   "cell_type": "code",
   "execution_count": null,
   "id": "8b41280b",
   "metadata": {},
   "outputs": [],
   "source": [
    "y=liver_df['Result']\n",
    "x=liver_df.drop(['Result'],axis=1)"
   ]
  },
  {
   "cell_type": "code",
   "execution_count": null,
   "id": "ec551e23-0101-491c-9244-e06e11c72775",
   "metadata": {},
   "outputs": [],
   "source": [
    "import missingno\n",
    "\n",
    "missingno.bar(liver_df)"
   ]
  },
  {
   "cell_type": "code",
   "execution_count": null,
   "id": "9a8b25ba-d15a-43af-ab93-959ca7868a43",
   "metadata": {},
   "outputs": [],
   "source": [
    "liver_df[\"Gender of the patient\"].value_counts().plot(kind=\"pie\", autopct=\"%.2f%%\")"
   ]
  },
  {
   "cell_type": "code",
   "execution_count": null,
   "id": "e4468576-a539-4fc0-ac2f-08ca3570306b",
   "metadata": {},
   "outputs": [],
   "source": [
    "for col in liver_df.columns:\n",
    "    fig = px.histogram(liver_df, x=col, color=\"Result\", nbins=20, title=f'Histogram of {col} by Result')\n",
    "    fig.show()"
   ]
  },
  {
   "cell_type": "code",
   "execution_count": null,
   "id": "d657dcfc-66ce-4e14-a9dd-11fc819a0403",
   "metadata": {},
   "outputs": [],
   "source": [
    "# Calculate the correlation between Age and Total Bilirubin\n",
    "correlation = liver_df['Age of the patient'].corr(liver_df['Total Bilirubin'])\n",
    "\n",
    "# Print the correlation coefficient\n",
    "print(\"Correlation between Age and Total Bilirubin:\", correlation)"
   ]
  },
  {
   "cell_type": "code",
   "execution_count": null,
   "id": "7a8fc9e2-7e44-46f9-aa91-e51b78be089f",
   "metadata": {},
   "outputs": [],
   "source": [
    "# Calculate the correlation matrix\n",
    "correlation_matrix = liver_df[['Age of the patient', 'Total Bilirubin']].corr()\n",
    "\n",
    "# Create a heatmap using Plotly Express\n",
    "fig = px.imshow(correlation_matrix, color_continuous_scale='Viridis')\n",
    "fig.update_layout(\n",
    "    title=\"Correlation Heatmap: Age vs Total Bilirubin\"\n",
    ")\n",
    "\n",
    "fig.show()"
   ]
  },
  {
   "cell_type": "code",
   "execution_count": null,
   "id": "8e480723",
   "metadata": {},
   "outputs": [],
   "source": [
    "from sklearn.model_selection import train_test_split\n",
    "X_train, X_test, y_train, y_test = train_test_split(x, y, test_size=0.2, random_state=42,stratify=y)\n",
    "X_test.head()"
   ]
  },
  {
   "cell_type": "code",
   "execution_count": null,
   "id": "27c55231",
   "metadata": {},
   "outputs": [],
   "source": [
    "from sklearn.preprocessing import StandardScaler,MinMaxScaler\n",
    "\n",
    "\n",
    "scaler= StandardScaler()\n",
    "\n",
    "# Fit the StandardScaler\n",
    "X_scaler = scaler.fit(X_train)\n",
    "# Scale the data\n",
    "X_train_scaled = X_scaler.transform(X_train)\n",
    "X_test_scaled = X_scaler.transform(X_test)\n",
    "X_test_scaled"
   ]
  },
  {
   "cell_type": "code",
   "execution_count": null,
   "id": "b29c8b1b-277c-4d4b-bb05-fee4e1b8b5ed",
   "metadata": {},
   "outputs": [],
   "source": [
    "import tensorflow as tf\n",
    "\n",
    "# Create a Sequential model\n",
    "data_model = tf.keras.models.Sequential()\n",
    "\n",
    "# Add the first hidden layer with 16 units, input dimension 11, and ReLU activation\n",
    "data_model.add(tf.keras.layers.Dense(units=20, input_dim=10, activation=\"relu\"))\n",
    "\n",
    "# Add the second hidden layer with 12 units and ReLU activation\n",
    "data_model.add(tf.keras.layers.Dense(units=15, activation=\"relu\"))\n",
    "\n",
    "# Add the third hidden layer with 8 units and ReLU activation\n",
    "data_model.add(tf.keras.layers.Dense(units=12, activation=\"relu\"))\n",
    "\n",
    "# Add the output layer with 1 unit and sigmoid activation (for binary classification)\n",
    "data_model.add(tf.keras.layers.Dense(units=1, activation=\"sigmoid\"))\n",
    "\n",
    "# Print the summary of the model\n",
    "data_model.summary()\n"
   ]
  },
  {
   "cell_type": "code",
   "execution_count": null,
   "id": "b24812c9-5e25-4548-9a50-928470cfd961",
   "metadata": {},
   "outputs": [],
   "source": [
    "# Compile the model\n",
    "data_model.compile(loss=\"binary_crossentropy\", optimizer=\"adam\", metrics=[\"accuracy\"])\n"
   ]
  },
  {
   "cell_type": "code",
   "execution_count": null,
   "id": "04659d8a-b1f8-474d-ad5b-c52577bf4874",
   "metadata": {},
   "outputs": [],
   "source": [
    "\n",
    "# Train the model using your training data\n",
    "data_model.fit(X_train_scaled, y_train, epochs=100)\n",
    "\n"
   ]
  },
  {
   "cell_type": "code",
   "execution_count": null,
   "id": "c0c2fa08-8e98-4d83-af4b-bbba1f7d276b",
   "metadata": {},
   "outputs": [],
   "source": [
    "test_loss, test_accuracy = data_model.evaluate(X_test_scaled, y_test)\n",
    "print(f\"Test Accuracy: {test_accuracy * 100:.2f}%\")\n"
   ]
  },
  {
   "cell_type": "code",
   "execution_count": null,
   "id": "d1332544-9b39-461f-a12f-3e32cf320739",
   "metadata": {},
   "outputs": [],
   "source": [
    "predictions =data_model.predict(X_test_scaled)\n",
    "predictions = (predictions > 0.5).astype(int)\n",
    "print(predictions[:5])"
   ]
  },
  {
   "cell_type": "code",
   "execution_count": null,
   "id": "aa6eebe0-3e6c-4d8c-82eb-66937ac6a64f",
   "metadata": {},
   "outputs": [],
   "source": [
    "from sklearn.metrics import r2_score,confusion_matrix,classification_report\n",
    "cm = confusion_matrix(y_test, predictions)\n",
    "print(cm)"
   ]
  },
  {
   "cell_type": "code",
   "execution_count": null,
   "id": "4536e8f9-55df-483b-a66f-f3296283ce14",
   "metadata": {},
   "outputs": [],
   "source": [
    "testing_report= classification_report(y_test, predictions)\n",
    "print(testing_report)"
   ]
  },
  {
   "cell_type": "code",
   "execution_count": null,
   "id": "21643c14-7b7a-4e31-975a-2d1a18531e0f",
   "metadata": {},
   "outputs": [],
   "source": [
    "#Export our model to HDF5 file\n",
    "import pickle\n",
    "with open(\"../Models/model_Liver.pkl\",'wb') as f:\n",
    "    pickle.dump(data_model,f)"
   ]
  },
  {
   "cell_type": "code",
   "execution_count": null,
   "id": "cb8d50e9-af6b-4c91-a929-fc8ef01e2cb1",
   "metadata": {},
   "outputs": [],
   "source": [
    "with open(\"../Models/model_Liver.pkl\",'rb') as f:\n",
    "    loaded_model = pickle.load(f)\n",
    "predictions =loaded_model.predict(X_test_scaled)\n",
    "print(predictions)\n",
    "binary_prediction = (predictions > 0.5).astype(int)\n",
    "print(binary_prediction)"
   ]
  },
  {
   "cell_type": "code",
   "execution_count": null,
   "id": "bc82506a-62e9-4bc0-81bc-762ae221e99d",
   "metadata": {},
   "outputs": [],
   "source": [
    "df =  pd.DataFrame(binary_prediction)\n",
    "df =  df.rename(columns ={0: \"Binary_predictions\"})\n"
   ]
  },
  {
   "cell_type": "code",
   "execution_count": null,
   "id": "3f2ac372-0b63-48b7-9ee1-81a2aa8c4e56",
   "metadata": {},
   "outputs": [],
   "source": [
    "y_df = y_test.to_frame().reset_index()\n",
    "y_df = y_df.drop(columns = \"index\")"
   ]
  },
  {
   "cell_type": "code",
   "execution_count": null,
   "id": "51ecac84",
   "metadata": {},
   "outputs": [],
   "source": [
    "pd.concat([y_df,df],axis=1)"
   ]
  },
  {
   "cell_type": "code",
   "execution_count": null,
   "id": "de080b86",
   "metadata": {},
   "outputs": [],
   "source": [
    "import numpy as np\n",
    "from sklearn import preprocessing\n",
    "features = np.array([[74,1,0.6,0.1,160.0,42.0,110.0,4.9,2.6,1.10]])\n",
    "scaler = StandardScaler().fit(X_train)\n",
    "x_scale = scaler.transform(X_train)\n",
    "with open('Resources/Liver_scaler.pkl', 'wb') as file:\n",
    "    pickle.dump(scaler, file)\n",
    "x_test_scale = scaler.transform(features)\n",
    "prediction =loaded_model.predict(x_test_scale)\n",
    "print(prediction)\n",
    "binary_predictions = (prediction > 0.5).astype(int)\n",
    "print(binary_predictions)"
   ]
  }
 ],
 "metadata": {
  "kernelspec": {
   "display_name": "Python 3 (ipykernel)",
   "language": "python",
   "name": "python3"
  },
  "language_info": {
   "codemirror_mode": {
    "name": "ipython",
    "version": 3
   },
   "file_extension": ".py",
   "mimetype": "text/x-python",
   "name": "python",
   "nbconvert_exporter": "python",
   "pygments_lexer": "ipython3",
   "version": "3.10.11"
  }
 },
 "nbformat": 4,
 "nbformat_minor": 5
}
